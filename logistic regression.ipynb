{
 "cells": [
  {
   "cell_type": "markdown",
   "metadata": {},
   "source": [
    "# Linear Data Classification Methods"
   ]
  },
  {
   "cell_type": "markdown",
   "metadata": {},
   "source": [
    "### Logistic Regression"
   ]
  },
  {
   "cell_type": "markdown",
   "metadata": {},
   "source": [
    "In classification the output variable of the classifier is a class label as we have seen in the case of Bayes Classifier. Let us denote the class label by $y$ and the data observations by $x$. As we know $y$ is a discrete variable that takes on a finite number of values. For instance in the case of binary classification, $y$ is either $0$ or $1$. In most of the cases the models are continuous functions. For instance we can have a model which predicts the outcome label $y$ as $f(x,w)$. But the incompatability between the RHS and LHS makes the determination of the parameters difficult."
   ]
  },
  {
   "cell_type": "markdown",
   "metadata": {},
   "source": [
    "For the present discussion assume that $y$ in 0 or 1 (Binary Classification). We model $p(y=1 | x) = f(x,w)$. Now since the LHS is a probability value which lies between 0 and 1, we would like to have the model function also to fall in this range. Therefore we choose a function that satifies $f:\\Re \\rightarrow (0,1)$. Sigmoid function is good choice with this property. \n",
    "       \\begin{equation}\n",
    "           f(x,w) = \\frac{1}{1+e^{-w^Tx}}\n",
    "       \\end{equation}\n",
    "       \n",
    "Check for yourself that the function always lies in the interval $(0,1)$."
   ]
  },
  {
   "cell_type": "markdown",
   "metadata": {},
   "source": [
    "Now having chosen the model, we have to estimate the parameter of the model, $w$. For that let us go back to Maximum Likelihood estimation. Let the training data be $X=\\{x_1,x_2, \\cdots x_n \\}, Y=\\{y_1,y_2, \\cdots y_n \\}\\; y_i \\in \\{0,1\\} $. The class labels $y_i$s are assumed to be independent of each other given $x_i$s."
   ]
  },
  {
   "cell_type": "markdown",
   "metadata": {},
   "source": [
    "That is, \n",
    "     \\begin{equation}\n",
    "     P(Y|X) = \\prod_{i}^{n} p(y_i |x_i)\n",
    "     \\end{equation}"
   ]
  },
  {
   "cell_type": "markdown",
   "metadata": {},
   "source": [
    "Now we can write $p(y_i | x_i)$ as $p(y_i=1 | x_i)^{y_i}(1-p(y_i=1 | x_i))^{1-y_i}$."
   ]
  },
  {
   "cell_type": "markdown",
   "metadata": {},
   "source": [
    "Plugging this into the definition for $P(Y|X)$ we get\n",
    "    \\begin{equation}\n",
    "       P(Y|X) = \\prod_{i}^{n} p(y_i=1 | x_i)^{y_i}(1-p(y_i=1 | x_i))^{1-y_i}\n",
    "    \\end{equation}"
   ]
  },
  {
   "cell_type": "markdown",
   "metadata": {},
   "source": [
    "This leads to the negative log likelihood function below <br>\n",
    "  \\begin{equation}\n",
    "      - \\sum_{i}^{n}\\{ {y_i} log(p(y_i=1 | x_i)) + (1-y_i)log(1-p(y_i=1 | x_i)) \\}\n",
    "    \\end{equation}"
   ]
  },
  {
   "cell_type": "markdown",
   "metadata": {},
   "source": [
    "Into this function we can substitute our model $f(x,w)$ which represents the probability of $y_i = 1$ given $x_i$. So negative log likelihood becomes a function of $w$. In fact it is convex function in $w$. Therefore the maximum likelihood estimate of the model parameters $w$ and is : <br>\n",
    "\\begin{equation}\n",
    " \\hat w, \\hat b = \\arg \\min_{w} -\\sum_{i}^{n}\\{ {y_i} log(\\frac{1}{1+e^{-w^Tx_i}}) + (1-y_i)log(1-\\frac{1}{1+e^{-w^Tx_i}}) \\}\n",
    "\\end{equation}"
   ]
  },
  {
   "cell_type": "markdown",
   "metadata": {},
   "source": [
    "But unlike the case of mean and variance estimation in gaussian case we will not get a closed form solution. In this case we have to find an algorithmic solution for computing the estimate. Since the function is differentiable with respect to the parameters we employ gradient descent optimization procedure for minimizing nll."
   ]
  },
  {
   "cell_type": "markdown",
   "metadata": {},
   "source": [
    "###### Gradient Descent Procedure : \n",
    "Suppose we have a problem of minimizing a differentiable function $f(x)$ with respect to $x$. Gradient Descent Procedure is an iterative algorithm which updates the parameter $x$ in the opposite direction of gradient at each iteration. A rough outline of the algorithm is as follows: \n",
    "    "
   ]
  },
  {
   "cell_type": "markdown",
   "metadata": {},
   "source": [
    "- gradientDescent(f)\n",
    "     1. $x_0$ = randomn initial value\n",
    "     2. do \n",
    "         1. grad = Gradient(f)\n",
    "         2. $x_k = x_{k-1} - \\eta$ grad\n",
    "     3. Till Convergence\n",
    "     \n",
    "$\\eta$ is called learning rate and is a small value like 0.01 and determines how far we must move in the oppposite direction of the gradient."
   ]
  },
  {
   "cell_type": "markdown",
   "metadata": {},
   "source": [
    "please go through the code below to understand how we optimize nll wrt $w$ using gradient descent procedure"
   ]
  },
  {
   "cell_type": "markdown",
   "metadata": {},
   "source": [
    "### Understanding linear classification \n",
    "This section presents the how the solution of the logistic regression splits the input data space into two regions. The final classification algorithm as we did with bayes classifier is simple and works by comparing $p(y=1|x)$ and $p(y=0|x)$. Assignment of labels is done on the basis of which one is larger. That is the classifier assigns a data vector $x$ to class $1$ iff $p(y=1|x) > 0.5$. That is, $\\frac{1}{1+e^{-w^Tx}} > 0.5$. By rearranging we get $e^{-w^Tx} < 1$ or ${-w^Tx} > 0$. That is $x$ falls on the positive side of the plane. Similarly we can find that to assign $x$ to class $0$ we need ${-w^Tx} < 0$. That is, actually we are checking on which side of the hyper plane the data is falling and decides the class assigned.\n"
   ]
  },
  {
   "cell_type": "code",
   "execution_count": 140,
   "metadata": {},
   "outputs": [],
   "source": [
    "import numpy as np\n",
    "import matplotlib.pyplot as plt\n",
    "import matplotlib.lines as mline\n",
    "\n",
    "#sigmoid function 1/(1+exp(-wTx)) which models the conditional prob. of y=1 given x\n",
    "def sigmoid(w,x):\n",
    "    w = w[:,np.newaxis] \n",
    "    pyx = 1/(1+np.exp(-w.T.dot(x)))\n",
    "    return pyx\n",
    "\n",
    "#computing the negative log likelihood of the data with the model parameters given by w.\n",
    "def neg_ll(w,x,y):\n",
    "    f = np.squeeze(sigmoid(w,x))\n",
    "    y = np.squeeze(y)\n",
    "    nll = 0\n",
    "    for i,y_i in enumerate(y):\n",
    "        nll += -(y_i*np.log(f[i]) + (1-y_i)*np.log(1-f[i]))\n",
    "    return nll\n",
    "        \n",
    "#gradient of nll at the present w. The expression implemented here is obtained by differentiating the nll \n",
    "#expression with respect to w\n",
    "def gradnll(w,x,y):\n",
    "    f = np.squeeze(sigmoid(w,x))\n",
    "    y = np.squeeze(y)\n",
    "    grad = 0\n",
    "    for i,y_i in enumerate(y):\n",
    "        grad += (-y_i * (1-f[i]) + (1-y_i)*f[i])*x[:,i]\n",
    "    return grad\n",
    "\n",
    "#training the model using simple gradient descent procedure. the nll value at each iteration of the algorithm is stored\n",
    "#list nll for plotting it vs the iteration count.It should decrease with iterations. Try to correspond the code with the\n",
    "#simple gradient descent scheme given above.\n",
    "def trainW(x,y):\n",
    "    w = 0.1*np.random.randn(x.shape[0])\n",
    "    nll = []\n",
    "    maxiter = 1000 #maximum number of iterations of the algorithm.\n",
    "    lr = 0.01#learning rate\n",
    "    for i in range(maxiter):\n",
    "        nll.append(neg_ll(w,x,y))#storing the cost (nll) at each iteration.\n",
    "        grad = gradnll(w,x,y)#computing the gradient\n",
    "        w = w - lr*grad#updating the weight using gradient descent.\n",
    "    return w,nll\n",
    "    \n",
    "    "
   ]
  },
  {
   "cell_type": "code",
   "execution_count": 141,
   "metadata": {},
   "outputs": [
    {
     "data": {
      "image/png": "[encoded data removed]",
      "text/plain": [
       "<matplotlib.figure.Figure at 0x7fbf5cc9eb00>"
      ]
     },
     "metadata": {},
     "output_type": "display_data"
    },
    {
     "name": "stdout",
     "output_type": "stream",
     "text": [
      "-21.4201472239 19.5963624346\n"
     ]
    },
    {
     "data": {
      "image/png": "[encoded data removed]",
      "text/plain": [
       "<matplotlib.figure.Figure at 0x7fbf5ce5ab70>"
      ]
     },
     "metadata": {},
     "output_type": "display_data"
    }
   ],
   "source": [
    "#*************************************************************************************\n",
    "#this part of the program basically generates a set of linearly separated data shown in the final plot produced at \n",
    "#in the end. It produces max_count_1 and max_count_2 number of points on either either sides of a line. The data produced \n",
    "#stored in X and their labels in Y\n",
    "max_count_1 = 2\n",
    "max_count_2 = 10\n",
    "X = np.ones([3,max_count_1+max_count_2])\n",
    "Y = np.zeros([max_count_1+max_count_2])\n",
    "cls1_count = 0\n",
    "cls2_count = 0\n",
    "w = np.array([4,-2])\n",
    "w = w/np.sqrt((w*w).sum())\n",
    "for i in range(300):\n",
    "    x1 = np.random.uniform(-10,10)\n",
    "    x2 = np.random.uniform(-10,10)\n",
    "    if w[0]*x1 + w[1]*x2 < -1:\n",
    "        if cls1_count < max_count_1:\n",
    "            Y[cls1_count+cls2_count] = 0\n",
    "            X[0,cls1_count+cls2_count],X[1,cls1_count+cls2_count] = x1,x2\n",
    "            cls1_count = cls1_count+1\n",
    "        else:\n",
    "            pass\n",
    "    if w[0]*x1 + w[1]*x2 > 1:\n",
    "        if cls2_count < max_count_2:\n",
    "            Y[cls1_count+cls2_count] = 1\n",
    "            X[0,cls1_count+cls2_count],X[1,cls1_count+cls2_count] = x1,x2\n",
    "            cls2_count = cls2_count+1\n",
    "        else:\n",
    "            pass\n",
    "    if cls1_count == max_count_1 and cls2_count == max_count_2:\n",
    "        break\n",
    "#************************************************************************************************        \n",
    "        \n",
    "w_model,nll = trainW(X,Y)        \n",
    "plt.plot(nll)\n",
    "plt.show()\n",
    "        \n",
    "        \n",
    "ax = plt.gca()\n",
    "plt.x_min = -10\n",
    "plt.x_max = 10\n",
    "plt.y_min = -10\n",
    "plt.y_max = 10\n",
    "x_min = -10\n",
    "y_min = (w_model[2]-w_model[0]*x_min)/w_model[1]\n",
    "x_max = 10\n",
    "y_max = (w_model[2]-w_model[0]*x_max)/w_model[1]\n",
    "print(y_min,y_max)\n",
    "line = mline.Line2D([x_min,x_max],[y_min,y_max], color='r')\n",
    "ax.add_line(line)\n",
    "c = ['r','b']\n",
    "color = [c[int(Y[i])] for i in range(max_count_1+max_count_2)]\n",
    "plt.scatter(X[0,:],X[1,:], color = color)\n",
    "plt.show()\n",
    "        \n",
    "    \n",
    "        "
   ]
  },
  {
   "cell_type": "code",
   "execution_count": 142,
   "metadata": {},
   "outputs": [
    {
     "data": {
      "text/plain": [
       "(3, 12)"
      ]
     },
     "execution_count": 142,
     "metadata": {},
     "output_type": "execute_result"
    }
   ],
   "source": [
    "X.shape"
   ]
  },
  {
   "cell_type": "code",
   "execution_count": null,
   "metadata": {},
   "outputs": [],
   "source": []
  },
  {
   "cell_type": "code",
   "execution_count": null,
   "metadata": {},
   "outputs": [],
   "source": []
  }
 ],
 "metadata": {
  "kernelspec": {
   "display_name": "Python 3",
   "language": "python",
   "name": "python3"
  },
  "language_info": {
   "codemirror_mode": {
    "name": "ipython",
    "version": 3
   },
   "file_extension": ".py",
   "mimetype": "text/x-python",
   "name": "python",
   "nbconvert_exporter": "python",
   "pygments_lexer": "ipython3",
   "version": "3.5.3"
  }
 },
 "nbformat": 4,
 "nbformat_minor": 2
}
