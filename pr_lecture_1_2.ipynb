{
 "cells": [
  {
   "cell_type": "markdown",
   "metadata": {},
   "source": [
    "# Introduction to linear algebra"
   ]
  },
  {
   "cell_type": "markdown",
   "metadata": {},
   "source": [
    "## Definition\n",
    "- A vector space  involves four things\n",
    "    - Two sets V and F and two algebraic operations called vector addition and scalar multiplication\n",
    "    - F is a scalar field - For our course it is the field of real numbers $ \\Re $\n",
    "    - Vector Addition, denoted by $x+y,\\;x,y \\in V$ \n",
    "    - Scalar multiplication, denoted by $\\alpha x$ where $\\alpha \\in F$ and $x \\in V$\n",
    "### Formal Definition of Vector Space\n",
    "   - The set $V$ over the scalar field $F$ ( $\\Re$) is said to be a vector space if \n",
    "       - $x+y \\in V, \\; \\forall x,y \\in V$ (*closure under vector addition*)\n",
    "       - $(x+y) + z = x + (y+z)$ (*associativity of vector addition*)\n",
    "       - $x+y = y+x$ (*commutativity of vector addition*)\n",
    "       - There exists an element $0 \\in V$ (called zero in V) such that $x+0 = x, \\; \\forall x \\in \\Re$\n",
    "       - For each $x \\in V$ there exists an element $-x \\in V$ such that $x + (-x) = 0$ \n",
    "       - $\\alpha x \\in V \\; \\forall x \\in V, \\alpha \\in F $ (*closure property of scalar multiplication*)\n",
    "       - $\\alpha (\\beta x) = (\\alpha \\beta) x \\; \\forall \\alpha,\\beta \\in F, x \\in V $\n",
    "       - $(\\alpha + \\beta)x = \\alpha x + \\beta x, \\;\\; \\forall \\alpha,\\beta \\in F, x \\in V $\n",
    "       - $ \\alpha(x+y) =  \\alpha x+ \\alpha y \\;\\; \\forall \\alpha,\\beta \\in F, x \\in V $\n",
    "       - $ 1 x = x \\;\\; \\forall x \\in V $"
   ]
  },
  {
   "cell_type": "markdown",
   "metadata": {},
   "source": [
    "#### Examples of Vector Spaces\n",
    "- The set of all $m \\times n$ matrices over $\\Re$, (denoted by $\\Re^{m\\times n}$) Here $V = \\Re^{m \\times n}, F = \\Re$\n",
    "- $V = \\Re^n, F = \\Re$ is a vector space.\n",
    "- The set of all polynomials over $\\Re$ with real coefficients.\n",
    "- The set of all continuous functions from $[0,1] \\rightarrow \\Re$\n"
   ]
  },
  {
   "cell_type": "markdown",
   "metadata": {
    "collapsed": true
   },
   "source": [
    "## Subspaces\n",
    "- **Definition**\n",
    "    - Let $S$ be a non-empty subset of a vector space $V$ over $F$. Then $S$ is said to be a subspace of $V$ if it satisfies all the norms of a vector space. \n",
    "    - In practice only the closure norms have to be checked as the others are directly inherited from $V$."
   ]
  },
  {
   "cell_type": "markdown",
   "metadata": {},
   "source": [
    "#### Example of a subspace\n",
    "- $ S = \\{ (x,y) \\lvert y = 3x \\} $ is a subspace of $\\Re^2$\n",
    "- The set of all $n\\times n$ diagonal matrices is a subspace of $\\Re^{n \\times n}$\n",
    "- The set $S = \\{0\\}$ is the trivial subspace of any vector space $V$"
   ]
  },
  {
   "cell_type": "markdown",
   "metadata": {},
   "source": [
    "## Span of a set of vectors\n",
    "- Let $ S = \\{ v_1, v_2, \\cdots v_r \\}$ be a set of $r$ vectors from the vector space $V$.\n",
    "- The span of $S$ is defined as the collection of all linear combination of vectors in $S$.\n",
    "- That is, \n",
    "    - span($S$) = $\\{ \\sum_{i}^{r} \\alpha_i v_i \\ \\lvert \\alpha_i \\in F \\}$\n",
    "- Clearly span($S$) is a subspace of $V$."
   ]
  },
  {
   "cell_type": "markdown",
   "metadata": {},
   "source": [
    "#### examples of span\n",
    "- What is the span of (1,2) in $\\Re^2$ ?\n",
    "- What is the span of $\\{ (1,0,0), (0,1,0), (0,0,1) \\}$ in $\\Re^3$ ?\n",
    "- The set $\\{1 , x, x^2, \\cdots x^n \\} $ spans the set of all polynomials of degree $\\leq n$. (This is a subspace of the vector space of all polynomials )"
   ]
  },
  {
   "cell_type": "markdown",
   "metadata": {},
   "source": [
    "### Subspaces and linear functions\n",
    "- For a linear function from $\\Re^n \\rightarrow \\Re^m $, let $R(f) = \\{ f(x) \\vert x \\in \\Re^n \\}$ be the range of $f$.\n",
    "    - $R(f)$ is a subspace of $\\Re^m $\n",
    "    - Every subspace of $\\Re^m$ is the range of some linear function.\n",
    "- *** proof is left to the reader ***"
   ]
  },
  {
   "cell_type": "markdown",
   "metadata": {},
   "source": [
    "## Range Spaces of matrices\n",
    "- Consider a matrix $A \\in \\Re^{m \\times n}$\n",
    "- $A$ Defines a linear function from $\\Re^n \\rightarrow \\Re^m $\n",
    "- $R(f) = \\{ Ax \\vert x \\in \\Re^n \\}$ is the range space of $A$\n",
    "- Note that $R(A)$ is the span of the columns of $A$ and hence called the column space of $A$\n",
    "- Similarly $A^T$ defines a linear mapping from $\\Re^m \\rightarrow \\Re^n $\n",
    "- Note that $R(A^T)$ is the span of the rows of $A$ and hence called the row space of $A^T$"
   ]
  },
  {
   "cell_type": "markdown",
   "metadata": {},
   "source": [
    "- $ A = \\left ( \\begin{array}{cc} 1 & 2 & 3 \\\\ 2 & 4 & 6 \\end{array} \\right ) $. Find the row space and column space of $A$?"
   ]
  },
  {
   "cell_type": "markdown",
   "metadata": {},
   "source": [
    "### Null Space of A\n",
    "- Let $A \\in \\Re^{m \\times n} $ the null space of $A$ denoted by $N(A)$ is defined as \n",
    "  $N(A) = \\{ x \\in \\Re^n \\lvert Ax = 0 \\} $\n",
    "- It is a subspace of $\\Re^n$\n",
    "-"
   ]
  },
  {
   "cell_type": "markdown",
   "metadata": {},
   "source": [
    "### Linear independence \n",
    "- A set of vectors $S = \\{ v_1, v_2, \\cdots v_n \\}$ is said to be linearly independent set if the only solution to $ \\sum_{i}^{n} \\alpha_i v_i = 0$ is the trivial solution $ \\alpha_1 = \\alpha_2 = \\cdots \\alpha_n = 0 $.  \n",
    "- If there is a non-trivial solution for $ \\alpha_i $'s then it is called a linearly dependent set.\n",
    "- $S = \\{ (1,0),(1,1) \\}$ is a linearly independent set\n",
    "- $S = \\{ (1,0,1),(0,1,1), (1,2,3) \\}$ is a linearly dependent set\n",
    "- The rows (columns) of a non-singular $m \\times m $ matrix are linearly independent vectors."
   ]
  },
  {
   "cell_type": "markdown",
   "metadata": {},
   "source": [
    "## Basis\n",
    "- A linearly independent set of vectors that span the vector space $V$ is called a basis of $V$\n",
    "- Eg. \\{(1,0),(0,1) \\} is a basis of $\\Re^2 $ ( canonical basis ) \n",
    "- The rows (columns) of non-singular $n \\times n $ matrices is a basis of $\\Re^n$\n",
    "## Dimension\n",
    "- The cardinality of basis set is called the dimension of the vector space $V$.\n",
    "  - Eg. $\\Re^2$ is two dimensional since its basis contains only two vectors.\n",
    "  - Eg. Similarly $\\Re^n$ is n dimensional since its basis contains n vectors.\n",
    "- There can be many basis sets for a vector space but only one dimension. That is, all the basis sets will have the same number of vectors.\n",
    "- Note that any set of $n$ linearly independent vectors forms a basis of a vector space $V$ of dimension $n$\n"
   ]
  },
  {
   "cell_type": "markdown",
   "metadata": {},
   "source": [
    "- Let $V$ be a vector space of dimension $n$ and $\\{w_1,w_2,\\cdots w_m\\}$ be a set of $m$ vectors where $m>n$. Then they are linearly dependent. \n",
    "- ***(For proof refer to the class notes)***"
   ]
  },
  {
   "cell_type": "markdown",
   "metadata": {},
   "source": [
    "#### Inner Product \n",
    "- Inner Product or Dot product is a function that takes two vectors in $V$ and maps them to $\\Re$.\n",
    "- Notation used is $<u,v>$\n",
    "- Inner Product satisfies the following properties\n",
    "    - $<u,v> = <v,u> \\;\\; \\forall u,v \\in V$ \n",
    "    - $<\\alpha u, v> = <v, \\alpha u> = \\alpha<u,v> \\forall u,v \\in V, \\alpha \\in \\Re$\n",
    "    - $<v,u+w> = <v,u>+<v,w> \\;\\; \\forall u,v,w \\in \\Re$"
   ]
  },
  {
   "cell_type": "markdown",
   "metadata": {},
   "source": [
    "- Eg : $V = \\Re^n$. Then $v = (v_1,v_2,\\cdots v_n), u = (u_1,u_2,\\cdots u_n)$, Then $<u,v> = \\sum_{i=1}^{n} v_i u_i $. \n",
    "- Eg. If $V$ is the space of all real valued continuous functions on the interval $[0,1]$. If $f,g \\in V$ then $<f,g> = \\int_0^1 f(t)g(t)dt$\n",
    "- Eg: $V+\\Re^{m,n}$, space of all $m \\times n$ matrices.$<v,u> = \\sum_{ij}v_{ij} u_{ij} $.\n",
    "-  ***(Check if they satisfy all the properties of inner product)***"
   ]
  },
  {
   "cell_type": "markdown",
   "metadata": {
    "collapsed": true
   },
   "source": [
    "- Two vectors are said to be **othogonal to each other if $v,u> = 0$**.\n",
    "- This is an extension of the idea **perpendicularity** in analytical geometry."
   ]
  },
  {
   "cell_type": "markdown",
   "metadata": {},
   "source": [
    "- Given two vectors $v,u \\in V$, we decompose $u$ into two components, on parallel to $v$ and the other one orthogonal to $v$.\n",
    "- That is, $u = u_{||} + u_p $.\n",
    "- Now since $u_{||} $ is along the direction of $v$ it can be written as $c v$ where $c \\in \\Re$.\n",
    "- Moreover, $<u_p,v> = 0$. \n",
    "- This implies that $<u - cv, v> = 0$ or $c = \\frac{<u,v>}{v,v}$\n",
    "- $cv$ is called the projection of $u$ on $v$."
   ]
  },
  {
   "cell_type": "code",
   "execution_count": 2,
   "metadata": {},
   "outputs": [
    {
     "data": {
      "image/png": "[encoded data removed]",
      "text/plain": [
       "<matplotlib.figure.Figure at 0x7f5f37bbeb70>"
      ]
     },
     "metadata": {},
     "output_type": "display_data"
    }
   ],
   "source": [
    "import numpy as np\n",
    "import matplotlib.pyplot as plt\n",
    "import matplotlib.pylab as pylab\n",
    "\n",
    "v = [4,1]\n",
    "u = [2,2]\n",
    "c = (v[0]*u[0] + v[1]*u[1])/(v[0]**2 + v[1]**2) #projection coefficient\n",
    "up = [c*v[0],c*v[1]] #projection of u on v\n",
    "uo = [u[0]-up[0],u[1]-up[1]]# orthogonal residue\n",
    "\n",
    "plt.xlim(-5,5)\n",
    "plt.ylim(-5,5)\n",
    "plt.axvline(x=0,color = 'c')\n",
    "plt.axhline(y=0,color = 'c')\n",
    "plt.grid(True)\n",
    "pylab.arrow(0,0,v[0],v[1],head_width = 0.2,color = 'r', label = 'v')\n",
    "pylab.arrow(0,0,u[0],u[1],head_width = 0.2,color = 'k', label = 'v')\n",
    "pylab.arrow(0,0,up[0],up[1],head_width = 0.2,color = 'g', label = 'v')\n",
    "pylab.arrow(0,0,uo[0],uo[1],head_width = 0.2,color = 'g', label = 'v')\n",
    "plt.annotate('u', xy = (0.8,1.2))\n",
    "plt.annotate('up', xy = (1.5,0.6))\n",
    "plt.annotate('v', xy = (3,0.95))\n",
    "plt.annotate('uo', xy = (uo[0]/2-0.45,0.4))\n",
    "plt.show()\n",
    "\n"
   ]
  },
  {
   "cell_type": "markdown",
   "metadata": {},
   "source": [
    "#### Gram Schmidt Orthogonalization \n",
    "- Let $\\{v_1,v_2, \\cdots v_n\\} $ be $n$ vectors in a Vector space $V$.\n",
    "- They need not be orthogonal to each other.\n",
    "- But we can generate an orthogonal collection from the given vectors.\n"
   ]
  },
  {
   "cell_type": "markdown",
   "metadata": {},
   "source": [
    "- Let us iteratively generate the set.\n",
    "- $u_1 = v_1$\n",
    "- $u_2 = v_2 - \\frac{<v_2,u_1>}{u_1,u_1}u_1$\n",
    "- $u_3 = v_3 - \\frac{<v_3,u_1>}{u_1,u_1}u_1 - \\frac{<v_3,u_2>}{u_2,u_2}u_2 $ \n",
    "- $ \\cdots $\n",
    "- $u_n = v_n - \\frac{<v_n,u_1>}{u_1,u_1}u_1 - \\frac{<v_n,u_2>}{u_2,u_2}u_2 - \\cdots \\frac{<v_n,u_{n-1}>}{<u_{n-1},u_{n-1}>}u_{n-1}  $\n"
   ]
  },
  {
   "cell_type": "markdown",
   "metadata": {},
   "source": [
    "- Perform Gram-Schmidt orthogonalization procedure to generate an orthogonal set out of (1,2,3), (0,0,,3),(0,2,1). (Write a function that takes n vectors and gives an orthogonal set of vectors as output)"
   ]
  }
 ],
 "metadata": {
  "kernelspec": {
   "display_name": "Python 3",
   "language": "python",
   "name": "python3"
  },
  "language_info": {
   "codemirror_mode": {
    "name": "ipython",
    "version": 3
   },
   "file_extension": ".py",
   "mimetype": "text/x-python",
   "name": "python",
   "nbconvert_exporter": "python",
   "pygments_lexer": "ipython3",
   "version": "3.6.4rc1"
  }
 },
 "nbformat": 4,
 "nbformat_minor": 2
}
