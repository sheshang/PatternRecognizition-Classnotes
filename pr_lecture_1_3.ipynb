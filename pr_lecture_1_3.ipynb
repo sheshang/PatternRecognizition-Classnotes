{
 "cells": [
  {
   "cell_type": "code",
   "execution_count": 2,
   "metadata": {},
   "outputs": [],
   "source": [
    "import numpy as np"
   ]
  },
  {
   "cell_type": "markdown",
   "metadata": {},
   "source": [
    "<br> **Eigen vectors of different eigen values of a symmetric matrix form an orthogonal system of vectors.**<br\\>\n",
    "  ***PROOF***\n",
    "- Let $A \\in \\Re^{n \\times n} $ be a symmetric matrix. ($A = A^T$). Let $( \\lambda_1, v_1 ), (\\lambda_2, v_2 ) $ be two eigen value - vector pairs where $\\lambda_1 \\neq \\lambda_2 $. The eigen value equations are $Av_1 = \\lambda_1 v_1 \\;\\;Av_2 = \\lambda_2 v_2 $. Therefore $v_2^T Av_1 = \\lambda_2 v_2^T v_1 $. But $v_2^T A = \\lambda_2 v_2^T$. Putting this into the previous equation yields $\\lambda_2 v_2^T v_1 = \\lambda_1 v_2^T v_1$. Since $\\lambda_1 \\neq \\lambda_2$ we have $v_2^T v_1 = 0 $\n",
    "- The example below illustrates this "
   ]
  },
  {
   "cell_type": "code",
   "execution_count": 3,
   "metadata": {},
   "outputs": [
    {
     "name": "stdout",
     "output_type": "stream",
     "text": [
      "[[1 0 1]\n",
      " [0 2 2]\n",
      " [1 2 3]]\n"
     ]
    }
   ],
   "source": [
    "a = [1,0,1,0,2,2,1,2,3]\n",
    "amat = np.array(a).reshape((3,3)).T\n",
    "print(amat)"
   ]
  },
  {
   "cell_type": "code",
   "execution_count": 4,
   "metadata": {},
   "outputs": [
    {
     "name": "stdout",
     "output_type": "stream",
     "text": [
      "eigen values \n",
      " [  4.73205081e+00   1.26794919e+00  -8.04992623e-17] \n",
      " vectors \n",
      " [[-0.21132487 -0.78867513 -0.57735027]\n",
      " [-0.57735027  0.57735027 -0.57735027]\n",
      " [-0.78867513 -0.21132487  0.57735027]]\n"
     ]
    }
   ],
   "source": [
    "e,v = np.linalg.eig(amat)\n",
    "print('eigen values','\\n',e,'\\n','vectors', '\\n',v)"
   ]
  },
  {
   "cell_type": "code",
   "execution_count": 5,
   "metadata": {},
   "outputs": [
    {
     "name": "stdout",
     "output_type": "stream",
     "text": [
      "[[ 1. -0.  1.]\n",
      " [-0.  2.  2.]\n",
      " [ 1.  2.  3.]]\n"
     ]
    }
   ],
   "source": [
    "b = np.dot(np.dot(v, np.diag(e)),v.T)\n",
    "print(b.round())"
   ]
  },
  {
   "cell_type": "code",
   "execution_count": 6,
   "metadata": {},
   "outputs": [
    {
     "name": "stdout",
     "output_type": "stream",
     "text": [
      "[[  1.00000000e+00  -2.49800181e-16  -2.22044605e-16]\n",
      " [ -2.49800181e-16   1.00000000e+00  -4.57966998e-16]\n",
      " [ -2.22044605e-16  -4.57966998e-16   1.00000000e+00]]\n"
     ]
    }
   ],
   "source": [
    "#Orthogonality of v\n",
    "print(np.dot(v.T,v))"
   ]
  },
  {
   "cell_type": "markdown",
   "metadata": {},
   "source": [
    "## Singular Value Decomposition\n",
    "- $A \\in \\Re^{m\\times n}$ \n",
    "- $A$ can be written as a product of three matrices $U,S,V$\n",
    "- $U$ is an $m \\times m$ orthogonal matrix\n",
    "- $V$ is an $n \\times n$ orthogonal matrix\n",
    "- $S$ is an $m \\times n$ diagnonal matrix"
   ]
  },
  {
   "cell_type": "markdown",
   "metadata": {},
   "source": [
    "- $ A = USV^T $\n",
    "- $AA^T = US^2 U^T$\n",
    "- $A^TA = V S^2 V^T $\n"
   ]
  },
  {
   "cell_type": "code",
   "execution_count": 7,
   "metadata": {},
   "outputs": [
    {
     "name": "stdout",
     "output_type": "stream",
     "text": [
      "[[ 1  2  3  4]\n",
      " [ 5  6  7  8]\n",
      " [ 9 10 11 12]]\n"
     ]
    }
   ],
   "source": [
    "A = np.array(np.arange(1,13)).reshape((3,4))\n",
    "print(A)"
   ]
  },
  {
   "cell_type": "code",
   "execution_count": 12,
   "metadata": {},
   "outputs": [
    {
     "name": "stdout",
     "output_type": "stream",
     "text": [
      "[  6.47032607e+02   2.96739296e+00   4.87870499e-14]\n"
     ]
    }
   ],
   "source": [
    "S2,U = np.linalg.eig(np.dot(A,A.T))\n",
    "_,V = np.linalg.eig(np.dot(A.T,A))\n"
   ]
  },
  {
   "cell_type": "code",
   "execution_count": 9,
   "metadata": {},
   "outputs": [
    {
     "name": "stdout",
     "output_type": "stream",
     "text": [
      "[[  1.00000000e+00   4.99600361e-16   0.00000000e+00]\n",
      " [  4.99600361e-16   1.00000000e+00  -4.44089210e-16]\n",
      " [  0.00000000e+00  -4.44089210e-16   1.00000000e+00]]\n"
     ]
    }
   ],
   "source": [
    "print(np.dot(U,U.T))"
   ]
  },
  {
   "cell_type": "code",
   "execution_count": 10,
   "metadata": {},
   "outputs": [
    {
     "name": "stdout",
     "output_type": "stream",
     "text": [
      "[[  1.00000000e+00  -2.77555756e-16  -1.94289029e-16  -1.05818132e-16]\n",
      " [ -2.77555756e-16   1.00000000e+00  -1.67088565e-14  -1.32255318e-14]\n",
      " [ -1.94289029e-16  -1.67088565e-14   1.00000000e+00   7.55698876e-01]\n",
      " [ -1.05818132e-16  -1.32255318e-14   7.55698876e-01   1.00000000e+00]]\n"
     ]
    }
   ],
   "source": [
    "print(np.dot(V.T,V))"
   ]
  },
  {
   "cell_type": "code",
   "execution_count": 13,
   "metadata": {},
   "outputs": [
    {
     "name": "stdout",
     "output_type": "stream",
     "text": [
      "[[  2.54368356e+01   0.00000000e+00   0.00000000e+00   0.00000000e+00]\n",
      " [  0.00000000e+00   1.72261225e+00   0.00000000e+00   0.00000000e+00]\n",
      " [  0.00000000e+00   0.00000000e+00   2.20877907e-07   0.00000000e+00]]\n",
      "[[  1.00000005   1.99999993   2.99999999   4.00000003]\n",
      " [  4.9999999    6.00000014   7.00000002   7.99999994]\n",
      " [  9.00000005   9.99999993  10.99999999  12.00000003]]\n"
     ]
    }
   ],
   "source": [
    "S = np.zeros_like(A, dtype = float)\n",
    "for i in range(0,S2.shape[0]):\n",
    "    S[i,i] = np.sqrt(S2[i])\n",
    "B = np.dot( np.dot(U,S), V.T  )\n",
    "print(B)"
   ]
  },
  {
   "cell_type": "markdown",
   "metadata": {},
   "source": [
    "- In the above example see that V is not exactly orthogonal since $V^T V$ has element (2,3) = 0.755. This is bacause the matrix is 3x4 and hence can have only 3 singular values. Therefore the fourth column of $V$ is immaterial. You can change it with any random vector as shown below:"
   ]
  },
  {
   "cell_type": "code",
   "execution_count": 15,
   "metadata": {},
   "outputs": [
    {
     "name": "stdout",
     "output_type": "stream",
     "text": [
      "[[  1.   2.   3.   4.]\n",
      " [  5.   6.   7.   8.]\n",
      " [  9.  10.  11.  12.]]\n"
     ]
    }
   ],
   "source": [
    "V[:,3] = np.random.randn(4)\n",
    "B = np.dot( np.dot(U,S), V.T  )\n",
    "print(B.round())"
   ]
  },
  {
   "cell_type": "markdown",
   "metadata": {},
   "source": [
    "- We can generalize this further. If $A \\in \\Re^{m \\times n} $ has rank $r$, then will be only $r$ non-zero singular values. This means that only $r$ columns of $U$ and $V$ are relevant. You can replace the remaining columns of both matrices by any arbitrary vectors. Still $A = USV^T$ holds. "
   ]
  }
 ],
 "metadata": {
  "kernelspec": {
   "display_name": "Python 3",
   "language": "python",
   "name": "python3"
  },
  "language_info": {
   "codemirror_mode": {
    "name": "ipython",
    "version": 3
   },
   "file_extension": ".py",
   "mimetype": "text/x-python",
   "name": "python",
   "nbconvert_exporter": "python",
   "pygments_lexer": "ipython3",
   "version": "3.6.4rc1"
  }
 },
 "nbformat": 4,
 "nbformat_minor": 2
}
