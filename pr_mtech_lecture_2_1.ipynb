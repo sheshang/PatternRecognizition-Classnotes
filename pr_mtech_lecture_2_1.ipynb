{
 "cells": [
  {
   "cell_type": "markdown",
   "metadata": {
    "slideshow": {
     "slide_type": "-"
    }
   },
   "source": [
    "# Introduction"
   ]
  },
  {
   "cell_type": "markdown",
   "metadata": {
    "slideshow": {
     "slide_type": "-"
    }
   },
   "source": [
    "- Pattern recognition started before the machines were in place \n",
    "- Basically search for patterns in data.\n",
    "- Computing the probability of head in a coin toss from the data from numerous repetitions of the \n",
    "  experiment is a very basic pattern recognition problem.\n",
    "- In essence we are trying to discover ways to extract critical information from large amounts of data to\n",
    "  describe or analyze them.\n",
    "- We can call it an engineering discipline grown out of statistics."
   ]
  },
  {
   "cell_type": "markdown",
   "metadata": {
    "slideshow": {
     "slide_type": "-"
    }
   },
   "source": [
    "- let us see what search for patterns means\n",
    "- Observe the data in the figure below."
   ]
  },
  {
   "cell_type": "code",
   "execution_count": 12,
   "metadata": {
    "slideshow": {
     "slide_type": "-"
    }
   },
   "outputs": [
    {
     "data": {
      "image/png": "[encoded data removed]",
      "text/plain": [
       "<matplotlib.figure.Figure at 0x7fb262bce4e0>"
      ]
     },
     "metadata": {},
     "output_type": "display_data"
    }
   ],
   "source": [
    "import math \n",
    "import matplotlib.pyplot as plt\n",
    "import numpy as np\n",
    "x = np.linspace(-1,1,100)\n",
    "y = 3*x + 0.1*np.random.randn(*x.shape)\n",
    "plt.xlabel('x')\n",
    "plt.ylabel(\"y\")\n",
    "plt.axvline(x=0, color = 'blue')\n",
    "plt.axhline(y=0, color = 'blue')\n",
    "plt.scatter(x,y,marker = 'o',color='magenta',s=2)\n",
    "plt.show()\n"
   ]
  },
  {
   "cell_type": "markdown",
   "metadata": {
    "slideshow": {
     "slide_type": "-"
    }
   },
   "source": [
    "- a linear pattern can be discerned from the way the points lie.\n",
    "- This course tries to figure out this pattern automatically.\n",
    "- Let us try to figure out the line equation from the noisy observations given to us.\n",
    "- Assume $ y = ax + b $ is the line equation\n",
    "- The algorithm below gives an iterative procedure for finding the pattern in the data."
   ]
  },
  {
   "cell_type": "code",
   "execution_count": 13,
   "metadata": {},
   "outputs": [
    {
     "data": {
      "image/png": "[encoded data removed]",
      "text/plain": [
       "<matplotlib.figure.Figure at 0x7fb262c15390>"
      ]
     },
     "metadata": {},
     "output_type": "display_data"
    }
   ],
   "source": [
    "import matplotlib.animation as animation\n",
    "a,b = 0,0\n",
    "sum_xy = np.sum(x*y)\n",
    "sum_x = np.sum(x)\n",
    "sum_y = np.sum(y)\n",
    "sum_x2 = np.sum(x*x)\n",
    "n = x.shape[0]\n",
    "for i in range(10):\n",
    "    b = (sum_y - a*sum_x)/n\n",
    "    a = (sum_xy - b*sum_x)/sum_x2\n",
    "plt.xlabel('x')\n",
    "plt.ylabel(\"y\")\n",
    "plt.axvline(x=0, color = 'red')\n",
    "plt.axhline(y=0, color = 'red')\n",
    "plt.scatter(x,y,marker = 'o', s = 2, color = 'magenta')\n",
    "plt.plot(x,a*x+b,color = 'green')\n",
    "plt.show()"
   ]
  },
  {
   "cell_type": "markdown",
   "metadata": {},
   "source": [
    "- Basically therefore we automate the process of extracting valuable information from data observations.\n",
    "- This process is in short called learning.\n",
    "- This process of gathering information from the data sensed from the world around is the heart of human intelligence.\n",
    "- Mathematically, we formulate learning as finding analytical relations between data and a desired response.\n",
    "- Learning is all about computing this function.\n"
   ]
  },
  {
   "cell_type": "markdown",
   "metadata": {},
   "source": [
    "- There are different settings in which this has to be done.\n",
    "  - Sometimes the given data  might include a number of observations and the desired response for each of them. Using this collection of data we some how develop an analytical relation between the observation and the desired response. This is called **Supervised Learning**. The line fitting that we did earlier is an example.\n",
    "  - Sometimes there are just a lot observations. We have to extract the relations between them. This is called **Unsupervised Learning**. An instance is grouping of observations ( usually called ***clustering*** ). Another one is finding more efficient representations of the data (may be for compressed storage or bringing out the latent information in the observations) \n",
    "  - Sometimes the system has to be interact with the environment so as to figure out the right response for the given \n",
    "  state of the system. We do not tell the system what the desired response is but let the system respond and then we \n",
    "  give a feedback so that the system can adjust itself to produce a better response the next time.\n",
    "      - *A  master  chess  player  makes  a  move.   The  choice  is  informed  both  by  planning—anticipating possible replies and counterreplies—and by immediate, intuitive judgments of the desirability of particular positions and moves.*"
   ]
  },
  {
   "cell_type": "code",
   "execution_count": 14,
   "metadata": {},
   "outputs": [
    {
     "data": {
      "image/png": "[encoded data removed]",
      "text/plain": [
       "<matplotlib.figure.Figure at 0x7fb262d5aeb8>"
      ]
     },
     "metadata": {},
     "output_type": "display_data"
    }
   ],
   "source": [
    "#An instance of clustered data points.\n",
    "x = np.concatenate((-1+0.1*np.random.randn(2,1000), 1+0.1*np.random.randn(2,1000)),axis = 1)\n",
    "axes = plt.gca()\n",
    "axes.set_xlim([-2,2])\n",
    "axes.set_ylim([-2,2])\n",
    "plt.title(\"An instance of clustered data\")\n",
    "plt.axvline(x=0, color = 'red')\n",
    "plt.axhline(y=0, color = 'red')\n",
    "color = ['r']*1000 + ['k']*1000\n",
    "plt.scatter(x[0,:],x[1,:],marker='+', color = color)\n",
    "plt.show()"
   ]
  },
  {
   "cell_type": "markdown",
   "metadata": {},
   "source": [
    "#### A pattern recognition system \n",
    "- Generally there are four stages in a pattern recognition system\n",
    "    - Preprocess the data \n",
    "        - Remove the noise\n",
    "        - Some times find more efficient representations of the data\n",
    "    - Extract relevant features from the observations\n",
    "    - Perform the pattern recognition algorithm on the feature data."
   ]
  }
 ],
 "metadata": {
  "celltoolbar": "Slideshow",
  "kernelspec": {
   "display_name": "Python 3",
   "language": "python",
   "name": "python3"
  },
  "language_info": {
   "codemirror_mode": {
    "name": "ipython",
    "version": 3
   },
   "file_extension": ".py",
   "mimetype": "text/x-python",
   "name": "python",
   "nbconvert_exporter": "python",
   "pygments_lexer": "ipython3",
   "version": "3.6.4rc1"
  }
 },
 "nbformat": 4,
 "nbformat_minor": 2
}
